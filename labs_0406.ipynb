{
  "nbformat": 4,
  "nbformat_minor": 0,
  "metadata": {
    "colab": {
      "name": "labs_0406.ipynb",
      "private_outputs": true,
      "provenance": [],
      "authorship_tag": "ABX9TyO/ZwqeBmfQVO+ys1ttrDgy",
      "include_colab_link": true
    },
    "kernelspec": {
      "name": "python3",
      "display_name": "Python 3"
    },
    "language_info": {
      "name": "python"
    }
  },
  "cells": [
    {
      "cell_type": "markdown",
      "metadata": {
        "id": "view-in-github",
        "colab_type": "text"
      },
      "source": [
        "<a href=\"https://colab.research.google.com/github/dmlcks123/minkim1423.github.io/blob/main/labs_0406.ipynb\" target=\"_parent\"><img src=\"https://colab.research.google.com/assets/colab-badge.svg\" alt=\"Open In Colab\"/></a>"
      ]
    },
    {
      "cell_type": "code",
      "metadata": {
        "id": "Kgg7iwti9k5l"
      },
      "source": [
        "# EDA(탐색적 자료분석)와 LInear regression\n",
        "# 와인분류예측 이후에 레드와인 화이트와인 분류도?"
      ],
      "execution_count": null,
      "outputs": []
    },
    {
      "cell_type": "code",
      "metadata": {
        "id": "J8-9Zi-a9sRQ"
      },
      "source": [
        "import seaborn as sns\n",
        "import matplotlib.pyplot as plt\n",
        "import statsmodels.api as sm\n",
        "import numpy as np\n",
        "import pandas as pd\n",
        "\n",
        "from sklearn.linear_model import LinearRegression\n",
        "from sklearn.metrics import accuracy_score, confusion_matrix, r2_score\n",
        "from sklearn.metrics import mean_squared_error"
      ],
      "execution_count": null,
      "outputs": []
    },
    {
      "cell_type": "code",
      "metadata": {
        "id": "V45aUpXK-Jpw"
      },
      "source": [
        "#1. 데이터 전처리, EDA\n",
        "\n",
        "# 데이터 구조: 레드와인 + 화이트와인 append\n",
        "\n",
        "url = \"https://archive.ics.uci.edu/ml/machine-learning-databases/wine-quality/winequality-red.csv\"\n",
        "url2 = \"https://archive.ics.uci.edu/ml/machine-learning-databases/wine-quality/winequality-white.csv\""
      ],
      "execution_count": null,
      "outputs": []
    },
    {
      "cell_type": "code",
      "metadata": {
        "id": "g9sn3pp0-tgq"
      },
      "source": [
        "redwine = pd.read_csv(url, sep = \";\", header= 0)\n",
        "\n",
        "#식별변수 추가\n",
        "redwine[\"type\"] = \"red\"\n",
        "redwine.head()"
      ],
      "execution_count": null,
      "outputs": []
    },
    {
      "cell_type": "code",
      "metadata": {
        "id": "6hJTsCH7-zKv"
      },
      "source": [
        "whitewine = pd.read_csv(url2, sep = \";\", header=0)\n",
        "\n",
        "whitewine[\"type\"] = \"white\"\n",
        "whitewine.head()"
      ],
      "execution_count": null,
      "outputs": []
    },
    {
      "cell_type": "code",
      "metadata": {
        "id": "8_UGSlTL_jOg"
      },
      "source": [
        "redwine.count()"
      ],
      "execution_count": null,
      "outputs": []
    },
    {
      "cell_type": "code",
      "metadata": {
        "id": "DzyCDzlK_y_Y"
      },
      "source": [
        "whitewine.count()"
      ],
      "execution_count": null,
      "outputs": []
    },
    {
      "cell_type": "code",
      "metadata": {
        "id": "qgqlnRhR_Qi4"
      },
      "source": [
        "# append\n",
        "\n",
        "wine = redwine.append(whitewine)\n",
        "wine.shape"
      ],
      "execution_count": null,
      "outputs": []
    },
    {
      "cell_type": "code",
      "metadata": {
        "id": "pO0yfxuxAuiG"
      },
      "source": [
        "# Vinho Verde사의 Minho지방 와인데이터\n",
        "# petillance(스파클?)\n",
        "\n",
        "# fixed acidity\t고정산, 와인의 산도를 제어\t\t\t\t\t\t\t\t\t\t\t\n",
        "# volatile acidity\t휘발산, 와인의 향과 연관\t\t\t\t\t\t\t\t\t\t\t\n",
        "# citric acid\t구연산, 와인의 신선함을 올림\t\t\t\t\t\t\t\t\t\t\t\n",
        "# residual sugar\t잔여 당분, 와인의 단 맛 올림\t\t\t\t\t\t\t\t\t\t\t\n",
        "# chlorides\t염화물, 와인의 짠 맛의 원인\t\t\t\t\t\t\t\t\t\t\t\n",
        "# free sulfur dioxide,\tS02(이산화황), 미생물 증식 및 와인 산화 방지 \t\t\t\t\t\t\t\t\t\t\t\n",
        "# total sulfur dioxide,\tSO2(이산화황), 총 이산화황 --> free S02 + bound SO2 조합\t\t\t\t\t\t\t\t\t\t\t\n",
        "# density\t밀도, 와인의 무게감을 나타냄\t\t\t\t\t\t\t\t\t\t\t\n",
        "# pH\t산성도, 와인의 신 맛의 정도\t\t\t\t\t\t\t\t\t\t\t\n",
        "# sulphates\t황 산화염, 와인 산화 방지 \t\t\t\t\t\t\t\t\t\t\t\n",
        "# alcohol\t알코올, 와인의 단 맛과 무게감에 영향\t\t\t\t\t\t\t\t\t\t\t\n",
        "# quality\t와인의 질\t3,4,5,6,7,8"
      ],
      "execution_count": null,
      "outputs": []
    },
    {
      "cell_type": "code",
      "metadata": {
        "id": "zmUUhuCTAH2N"
      },
      "source": [
        "# summary\n",
        "\n",
        "wine.describe() "
      ],
      "execution_count": null,
      "outputs": []
    },
    {
      "cell_type": "code",
      "metadata": {
        "id": "mvB5kcXG_XdM"
      },
      "source": [
        "# rename\n",
        "\n",
        "wine.columns = wine.columns.str.replace(\" \", \"_\")\n",
        "wine.head()"
      ],
      "execution_count": null,
      "outputs": []
    },
    {
      "cell_type": "code",
      "metadata": {
        "id": "Lpv5YSQ0qbIH"
      },
      "source": [
        "# histogram\n",
        "sns.distplot(wine.quality, hist = True, kde = False, color = \"green\", label = \"wine quality\")"
      ],
      "execution_count": null,
      "outputs": []
    },
    {
      "cell_type": "code",
      "metadata": {
        "id": "eQB2lNLrqpVZ"
      },
      "source": [
        "# 종류별 histogram\n",
        "\n",
        "# subsample\n",
        "red_q = wine.loc[wine[\"type\"] == \"red\", \"quality\"]\n",
        "white_q = wine.loc[wine[\"type\"] == \"white\", \"quality\"]\n",
        "\n",
        "# distplot\n",
        "sns.set_style(\"darkgrid\")\n",
        "sns.distplot(red_q, norm_hist = True, kde = False, color = \"Red\", label = \"red wine\")\n",
        "sns.distplot(white_q, norm_hist = True, kde = False, color = \"Blue\", label = \"white wine\")\n",
        "plt.title(\"Distibution of Quality Wine Type\")\n",
        "plt.xlabel(\"Quality Score\")\n",
        "plt.ylabel(\"Density\")\n",
        "plt.legend();\n",
        "\n",
        "# 와인품질점수가 중간에 몰려 있음"
      ],
      "execution_count": null,
      "outputs": []
    },
    {
      "cell_type": "code",
      "metadata": {
        "id": "hS2mPxaurnf7"
      },
      "source": [
        "# wine 종류별 summary\n",
        "wine.groupby(\"type\")[\"quality\"].describe() "
      ],
      "execution_count": null,
      "outputs": []
    },
    {
      "cell_type": "code",
      "metadata": {
        "id": "38B7Ky93r9Mu"
      },
      "source": [
        "#2 와인품질예측: 선형회귀모형\n",
        "#예측능력 평가지표: RMSE(root mean square error), R_square"
      ],
      "execution_count": null,
      "outputs": []
    },
    {
      "cell_type": "code",
      "metadata": {
        "id": "KpzTqiYesNIC"
      },
      "source": [
        "# model class\n",
        "from sklearn.linear_model import LinearRegression\n",
        "lr = LinearRegression(fit_intercept= True)"
      ],
      "execution_count": null,
      "outputs": []
    },
    {
      "cell_type": "code",
      "metadata": {
        "id": "tEdPfNU-sU8B"
      },
      "source": [
        "# 특징행렬과 대상벡터\n",
        "X = wine.drop([\"type\", \"quality\"], axis = 1)\n",
        "y = wine.quality"
      ],
      "execution_count": null,
      "outputs": []
    },
    {
      "cell_type": "code",
      "metadata": {
        "id": "FpIjjPHTsgcy"
      },
      "source": [
        "# train, test set 분류\n",
        "from sklearn.model_selection import train_test_split\n",
        "\n",
        "X_train, X_test, y_train, y_test = train_test_split(X, y, random_state = 1)\n",
        "# random_state는 시드값, test size default는 0.25"
      ],
      "execution_count": null,
      "outputs": []
    },
    {
      "cell_type": "code",
      "metadata": {
        "id": "6Kcf0HFws1Dd"
      },
      "source": [
        "# fitting\n",
        "lr.fit(X_train, y_train)"
      ],
      "execution_count": null,
      "outputs": []
    },
    {
      "cell_type": "code",
      "metadata": {
        "id": "twlqJ6TJu0l_"
      },
      "source": [
        "# prediction\n",
        "y_pred = lr.predict(X_test)\n",
        "y_train_pred = lr.predict(X_train)"
      ],
      "execution_count": null,
      "outputs": []
    },
    {
      "cell_type": "code",
      "metadata": {
        "id": "tvik_lscs5do"
      },
      "source": [
        "# regression, p-value\n",
        "\n",
        "X_train = sm.add_constant(X_train)\n",
        "model = sm.OLS(y_train, X_train).fit()\n",
        "model.summary()"
      ],
      "execution_count": null,
      "outputs": []
    },
    {
      "cell_type": "code",
      "metadata": {
        "id": "uBRBdHvsuOc7"
      },
      "source": [
        "# test set kdensity\n",
        "\n",
        "sns.distplot(y_pred, hist = False, kde = True, color = \"red\", label = \"y_pred\")\n",
        "sns.distplot(y_test, hist = False, kde = True, color = \"blue\", label = \"y\")\n",
        "plt.xlabel(\"Quality Score\")\n",
        "plt.ylabel(\"Density\")\n",
        "plt.legend();\n"
      ],
      "execution_count": null,
      "outputs": []
    },
    {
      "cell_type": "code",
      "metadata": {
        "id": "NekQiMofvSBl"
      },
      "source": [
        "# R^2\n",
        "print(\"train data\\'s rsquare : \", format(lr.score(X_train, y_train)))\n",
        "print(\"test data\\'s rsquare ; \", format(lr.score(X_test, y_test)))"
      ],
      "execution_count": null,
      "outputs": []
    },
    {
      "cell_type": "code",
      "metadata": {
        "id": "H8gobmouvkIE"
      },
      "source": [
        "# RMSE\n",
        "print(\"train RMSE is \", np.round(np.sqrt(mean_squared_error(y_train, y_train_pred)),2))\n",
        "print(\"test RMSE is \", np.round(np.sqrt(mean_squared_error(y_test, y_pred)),2))"
      ],
      "execution_count": null,
      "outputs": []
    },
    {
      "cell_type": "code",
      "metadata": {
        "id": "xtc2kc_av-pp"
      },
      "source": [
        "## 전진 선택법: p-value 기준이하이면 모델에 포함\n",
        "\n",
        "variables = X_train.columns.tolist() ## 설명 변수 리스트\n",
        " \n",
        "y = y_train ## 반응 변수\n",
        "selected_variables = [] ## 선택된 변수들\n",
        "sl_enter = 0.05 # p-value, 유의수준 0.05 이하면 선택안함#####\n",
        " \n",
        "sv_per_step = [] ## 각 스텝별로 선택된 변수들\n",
        "adjusted_r_squared = [] ## 각 스텝별 수정된 결정계수\n",
        "steps = [] ## 스텝\n",
        "step = 0\n",
        "while len(variables) > 0:\n",
        "    remainder = list(set(variables) - set(selected_variables))\n",
        "    pval = pd.Series(index=remainder) ## 변수의 p-value\n",
        "    ## 기존에 포함된 변수와 새로운 변수 하나씩 돌아가면서 \n",
        "    ## 선형 모형을 적합한다.\n",
        "    for col in remainder: \n",
        "        X = X_train[selected_variables+[col]]\n",
        "        X = sm.add_constant(X)\n",
        "        model = sm.OLS(y,X).fit()\n",
        "        pval[col] = model.pvalues[col]\n",
        " \n",
        "    min_pval = pval.min()\n",
        "    if min_pval < sl_enter: ## 최소 p-value 값이 기준 값보다 작으면 포함\n",
        "        selected_variables.append(pval.idxmin())\n",
        "        \n",
        "        step += 1\n",
        "        steps.append(step)\n",
        "        adj_r_squared = sm.OLS(y,sm.add_constant(X_train[selected_variables])).fit().rsquared_adj\n",
        "        adjusted_r_squared.append(adj_r_squared)\n",
        "        sv_per_step.append(selected_variables.copy())\n",
        "    else:\n",
        "        break"
      ],
      "execution_count": null,
      "outputs": []
    },
    {
      "cell_type": "code",
      "metadata": {
        "id": "GRXUAlFewLi5"
      },
      "source": [
        "selected_variables"
      ],
      "execution_count": null,
      "outputs": []
    },
    {
      "cell_type": "code",
      "metadata": {
        "id": "6QBNpM6YwNeA"
      },
      "source": [
        "fig = plt.figure(figsize=(10,10))\n",
        "fig.set_facecolor('white')\n",
        " \n",
        "font_size = 15\n",
        "plt.xticks(steps,[f'step {s}\\n'+'\\n'.join(sv_per_step[i]) for i,s in enumerate(steps)], fontsize=12)\n",
        "plt.plot(steps,adjusted_r_squared, marker='o')\n",
        "    \n",
        "plt.ylabel('Adjusted R Squared',fontsize=font_size)\n",
        "plt.grid(True)\n",
        "plt.show()"
      ],
      "execution_count": null,
      "outputs": []
    },
    {
      "cell_type": "code",
      "metadata": {
        "id": "TiQAAOCWwPHD"
      },
      "source": [
        "## 후진 소거법\n",
        "variables = X_train.columns.tolist() ## 설명 변수 리스트\n",
        " \n",
        "y = y_train ## 반응 변수\n",
        "selected_variables = variables ## 초기에는 모든 변수가 선택된 상태\n",
        "sl_remove = 0.05 # p-value 값이 유의수준 5% 보다 크다면 변수제거\n",
        " \n",
        "sv_per_step = [] ## 각 스텝별로 선택된 변수들\n",
        "adjusted_r_squared = [] ## 각 스텝별 수정된 결정계수\n",
        "steps = [] ## 스텝\n",
        "step = 0\n",
        "while len(selected_variables) > 0:\n",
        "    X = sm.add_constant(X_train[selected_variables])\n",
        "    p_vals = sm.OLS(y,X).fit().pvalues[1:] ## 절편항의 p-value는 뺀다\n",
        "    max_pval = p_vals.max() ## 최대 p-value\n",
        "    if max_pval >= sl_remove: ## 최대 p-value값이 기준값보다 크거나 같으면 제외\n",
        "        remove_variable = p_vals.idxmax()\n",
        "        selected_variables.remove(remove_variable)\n",
        " \n",
        "        step += 1\n",
        "        steps.append(step)\n",
        "        adj_r_squared = sm.OLS(y,sm.add_constant(X_train[selected_variables])).fit().rsquared_adj\n",
        "        adjusted_r_squared.append(adj_r_squared)\n",
        "        sv_per_step.append(selected_variables.copy())\n",
        "    else:\n",
        "        break"
      ],
      "execution_count": null,
      "outputs": []
    },
    {
      "cell_type": "code",
      "metadata": {
        "id": "k_GsPAwnwRKl"
      },
      "source": [
        "selected_variables"
      ],
      "execution_count": null,
      "outputs": []
    },
    {
      "cell_type": "code",
      "metadata": {
        "id": "MZ0Jd4NWwSaC"
      },
      "source": [
        "fig = plt.figure(figsize=(10,10))\n",
        "fig.set_facecolor('white')\n",
        " \n",
        "font_size = 15\n",
        "plt.xticks(steps,[f'step {s}\\n'+'\\n'.join(sv_per_step[i]) for i,s in enumerate(steps)], fontsize=12)\n",
        "plt.plot(steps,adjusted_r_squared, marker='o')\n",
        "    \n",
        "plt.ylabel('Adjusted R Squared',fontsize=font_size)\n",
        "plt.grid(True)\n",
        "plt.show()"
      ],
      "execution_count": null,
      "outputs": []
    },
    {
      "cell_type": "code",
      "metadata": {
        "id": "wghAE44IwUM8"
      },
      "source": [
        "## 전진 단계별 선택법: 유의수준보다 작으면 선택 이후 모델적합\n",
        "## 모델 적합후 변수 중 가장큰 p-value 유의수준보다 크면 삭제\n",
        "\n",
        "variables = X_train.columns.tolist() ## 설명 변수 리스트\n",
        " \n",
        "y = y_train ## 반응 변수\n",
        "selected_variables = [] ## 선택된 변수들\n",
        "sl_enter = 0.05 # 선택기준 유의수준\n",
        "sl_remove = 0.05 # 제거기준 유의수준\n",
        " \n",
        "sv_per_step = [] ## 각 스텝별로 선택된 변수들\n",
        "adjusted_r_squared = [] ## 각 스텝별 수정된 결정계수\n",
        "steps = [] ## 스텝\n",
        "step = 0\n",
        "while len(variables) > 0:\n",
        "    remainder = list(set(variables) - set(selected_variables))\n",
        "    pval = pd.Series(index=remainder) ## 변수의 p-value\n",
        "    ## 기존에 포함된 변수와 새로운 변수 하나씩 돌아가면서 \n",
        "    ## 선형 모형을 적합한다.\n",
        "    for col in remainder: \n",
        "        X = X_train[selected_variables+[col]]\n",
        "        X = sm.add_constant(X)\n",
        "        model = sm.OLS(y,X).fit()\n",
        "        pval[col] = model.pvalues[col]\n",
        " \n",
        "    min_pval = pval.min()\n",
        "    if min_pval < sl_enter: ## 최소 p-value 값이 기준 값보다 작으면 포함\n",
        "        selected_variables.append(pval.idxmin())\n",
        "        ## 선택된 변수들에대해서\n",
        "        ## 어떤 변수를 제거할지 고른다.\n",
        "        while len(selected_variables) > 0:\n",
        "            selected_X = X_train[selected_variables]\n",
        "            selected_X = sm.add_constant(selected_X)\n",
        "            selected_pval = sm.OLS(y,selected_X).fit().pvalues[1:] ## 절편항의 p-value는 뺀다\n",
        "            max_pval = selected_pval.max()\n",
        "            if max_pval >= sl_remove: ## 최대 p-value값이 기준값보다 크거나 같으면 제외\n",
        "                remove_variable = selected_pval.idxmax()\n",
        "                selected_variables.remove(remove_variable)\n",
        "            else:\n",
        "                break\n",
        "        \n",
        "        step += 1\n",
        "        steps.append(step)\n",
        "        adj_r_squared = sm.OLS(y,sm.add_constant(X_train[selected_variables])).fit().rsquared_adj\n",
        "        adjusted_r_squared.append(adj_r_squared)\n",
        "        sv_per_step.append(selected_variables.copy())\n",
        "    else:\n",
        "        break"
      ],
      "execution_count": null,
      "outputs": []
    },
    {
      "cell_type": "code",
      "metadata": {
        "id": "nucaTCSBwWWO"
      },
      "source": [
        "selected_variables"
      ],
      "execution_count": null,
      "outputs": []
    },
    {
      "cell_type": "code",
      "metadata": {
        "id": "c81N6uIewXav"
      },
      "source": [
        "fig = plt.figure(figsize=(10,10))\n",
        "fig.set_facecolor('white')\n",
        " \n",
        "font_size = 15\n",
        "plt.xticks(steps,[f'step {s}\\n'+'\\n'.join(sv_per_step[i]) for i,s in enumerate(steps)], fontsize=12)\n",
        "plt.plot(steps,adjusted_r_squared, marker='o')\n",
        "    \n",
        "plt.ylabel('Adjusted R Squared',fontsize=font_size)\n",
        "plt.grid(True)\n",
        "plt.show()"
      ],
      "execution_count": null,
      "outputs": []
    },
    {
      "cell_type": "code",
      "metadata": {
        "id": "1yj-an7lwYj8"
      },
      "source": [
        "model.summary()\n",
        "# 전진선택, 후진선택 출처:https://zephyrus1111.tistory.com/65"
      ],
      "execution_count": null,
      "outputs": []
    },
    {
      "cell_type": "code",
      "metadata": {
        "id": "eu-99CWqwZm6"
      },
      "source": [
        ""
      ],
      "execution_count": null,
      "outputs": []
    }
  ]
}